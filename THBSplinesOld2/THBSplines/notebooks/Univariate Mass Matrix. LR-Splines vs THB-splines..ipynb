{
 "cells": [
  {
   "cell_type": "markdown",
   "metadata": {},
   "source": [
    "# Note on the effect of overloading in LR-splines and THB-splines."
   ]
  },
  {
   "cell_type": "markdown",
   "metadata": {},
   "source": [
    "In this document we compare the mass matrix resulting from the use of LR-splines and the one resulting from the use of THB-splines.\n",
    "It is known that the construction of THB-splines yields a transition element where there are more than $(d + 1)$ active basis functions.\n",
    "This may have an effect on the condition number of interpolation matrices, or finite element matrices. "
   ]
  },
  {
   "cell_type": "markdown",
   "metadata": {},
   "source": [
    "## Problem statement\n",
    "\n",
    "Denote by $\\mathcal{H}(M)$ the set of truncated hierarchical B-splines over a discretization $M$ of the domain $\\Omega = (0, 2\\pi)$. Similarly, let $\\mathcal{L}(M)$ denote the set of LR B-splines over the same discretization. We seek to find the best approximation to the function $u(x) = \\sin(x)$ in $\\Omega$ with vanishing boundary conditions. "
   ]
  },
  {
   "cell_type": "code",
   "execution_count": null,
   "metadata": {},
   "outputs": [],
   "source": [
    "import numpy as np\n",
    "\n",
    "def u(x):\n",
    "    return np.sin(x)\n",
    "omega = [0, 2*np.pi]"
   ]
  },
  {
   "cell_type": "markdown",
   "metadata": {},
   "source": [
    "# Finite element discretization\n",
    "\n",
    "Let $B$ be one of $\\mathcal{H}$ and $\\mathcal{L}$. In either case, we wish to solve the discrete problem: Find $c = (c_1, \\ldots, c_n)^T$ such that\n",
    "    $$\n",
    "        \\sum_{j = 1} c_i \\int_\\Omega B_i(x)B_j(x) dx = \\int_\\Omega B_j(x) f(x) dx\n",
    "    $$\n",
    "    for all $ j = 1, \\ldots, n$. This is succinctly written as a linear system\n",
    "    $\n",
    "        Ac = b\n",
    "    $\n",
    "    where $$\n",
    "        A_{ij} = \\int_\\Omega B_i(x) B_j(x) dx \\quad b_j = \\int_\\Omega B_j(x) f(x) dx\n",
    "    $$"
   ]
  },
  {
   "cell_type": "markdown",
   "metadata": {},
   "source": [
    "# Implementation"
   ]
  },
  {
   "cell_type": "code",
   "execution_count": 3,
   "metadata": {},
   "outputs": [
    {
     "ename": "ModuleNotFoundError",
     "evalue": "No module named 'THBSplines'",
     "traceback": [
      "\u001b[0;31m---------------------------------------------------------------------------\u001b[0m",
      "\u001b[0;31mModuleNotFoundError\u001b[0m                       Traceback (most recent call last)",
      "\u001b[0;32m<ipython-input-3-a2df5ef57d93>\u001b[0m in \u001b[0;36m<module>\u001b[0;34m()\u001b[0m\n\u001b[1;32m      2\u001b[0m \u001b[0;32mimport\u001b[0m \u001b[0mmatplotlib\u001b[0m\u001b[0;34m.\u001b[0m\u001b[0mpyplot\u001b[0m \u001b[0;32mas\u001b[0m \u001b[0mplt\u001b[0m\u001b[0;34m\u001b[0m\u001b[0m\n\u001b[1;32m      3\u001b[0m \u001b[0;34m\u001b[0m\u001b[0m\n\u001b[0;32m----> 4\u001b[0;31m \u001b[0;32mfrom\u001b[0m \u001b[0mTHBSplines\u001b[0m\u001b[0;34m.\u001b[0m\u001b[0mTHBSplines\u001b[0m\u001b[0;34m.\u001b[0m\u001b[0mHierarchicalMesh\u001b[0m \u001b[0;32mimport\u001b[0m \u001b[0mHierarchicalMesh\u001b[0m\u001b[0;34m\u001b[0m\u001b[0m\n\u001b[0m\u001b[1;32m      5\u001b[0m \u001b[0;32mfrom\u001b[0m \u001b[0mTHBSplines\u001b[0m\u001b[0;34m.\u001b[0m\u001b[0mTHBSplines\u001b[0m\u001b[0;34m.\u001b[0m\u001b[0mHierarchicalSpace\u001b[0m \u001b[0;32mimport\u001b[0m \u001b[0mHierarchicalSpace\u001b[0m\u001b[0;34m\u001b[0m\u001b[0m\n\u001b[1;32m      6\u001b[0m \u001b[0;32mfrom\u001b[0m \u001b[0mTHBSplines\u001b[0m\u001b[0;34m.\u001b[0m\u001b[0mTHBSplines\u001b[0m\u001b[0;34m.\u001b[0m\u001b[0mTensorProductSpace\u001b[0m \u001b[0;32mimport\u001b[0m \u001b[0mTensorProductSpace\u001b[0m\u001b[0;34m\u001b[0m\u001b[0m\n",
      "\u001b[0;31mModuleNotFoundError\u001b[0m: No module named 'THBSplines'"
     ],
     "output_type": "error"
    }
   ],
   "source": [
    "import numpy as np\n",
    "import matplotlib.pyplot as plt\n",
    "\n",
    "from THBSplines.THBSplines.HierarchicalMesh import HierarchicalMesh\n",
    "from THBSplines.THBSplines.HierarchicalSpace import HierarchicalSpace\n",
    "from THBSplines.THBSplines.TensorProductSpace import TensorProductSpace"
   ]
  },
  {
   "cell_type": "code",
   "execution_count": null,
   "metadata": {},
   "outputs": [],
   "source": []
  }
 ],
 "metadata": {
  "kernelspec": {
   "display_name": "Python 3",
   "language": "python",
   "name": "python3"
  },
  "language_info": {
   "codemirror_mode": {
    "name": "ipython",
    "version": 3
   },
   "file_extension": ".py",
   "mimetype": "text/x-python",
   "name": "python",
   "nbconvert_exporter": "python",
   "pygments_lexer": "ipython3",
   "version": "3.6.5"
  }
 },
 "nbformat": 4,
 "nbformat_minor": 2
}
